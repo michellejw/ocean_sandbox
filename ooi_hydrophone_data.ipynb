{
 "cells": [
  {
   "cell_type": "markdown",
   "metadata": {},
   "source": [
    "# Exploring OOI data access\n",
    "\n",
    "Still not sure how everything works, so this script is going to be my exploration into loading broadband hydrophone data.\n",
    "\n",
    "I'm using this notebook as an example: https://github.com/petercable/noisy-dolphins/blob/master/Voices.ipynb \n",
    "\n",
    "But rather than loading up one specific file, I'm interested in providing the user with a way to explore the available data a little bit. I plan to use beautiful soup to scrape the particular corner of the OOI raw data website that I'm interested in. It may not be the best way to do it but I currently don't know a better way so here we go!"
   ]
  },
  {
   "cell_type": "code",
   "execution_count": 3,
   "metadata": {},
   "outputs": [
    {
     "ename": "ModuleNotFoundError",
     "evalue": "No module named 'obspy'",
     "output_type": "error",
     "traceback": [
      "\u001b[0;31m---------------------------------------------------------------------------\u001b[0m",
      "\u001b[0;31mModuleNotFoundError\u001b[0m                       Traceback (most recent call last)",
      "\u001b[0;32m<ipython-input-3-732fd846afd3>\u001b[0m in \u001b[0;36m<module>\u001b[0;34m\u001b[0m\n\u001b[0;32m----> 1\u001b[0;31m \u001b[0;32mimport\u001b[0m \u001b[0mobspy\u001b[0m\u001b[0;34m\u001b[0m\u001b[0;34m\u001b[0m\u001b[0m\n\u001b[0m\u001b[1;32m      2\u001b[0m \u001b[0;32mimport\u001b[0m \u001b[0mrequests\u001b[0m\u001b[0;34m\u001b[0m\u001b[0;34m\u001b[0m\u001b[0m\n\u001b[1;32m      3\u001b[0m \u001b[0;32mfrom\u001b[0m \u001b[0mbs4\u001b[0m \u001b[0;32mimport\u001b[0m \u001b[0mBeautifulSoup\u001b[0m\u001b[0;34m\u001b[0m\u001b[0;34m\u001b[0m\u001b[0m\n\u001b[1;32m      4\u001b[0m \u001b[0;32mimport\u001b[0m \u001b[0mmatplotlib\u001b[0m\u001b[0;34m.\u001b[0m\u001b[0mpyplot\u001b[0m \u001b[0;32mas\u001b[0m \u001b[0mplt\u001b[0m\u001b[0;34m\u001b[0m\u001b[0;34m\u001b[0m\u001b[0m\n\u001b[1;32m      5\u001b[0m \u001b[0;32mimport\u001b[0m \u001b[0mnumpy\u001b[0m \u001b[0;32mas\u001b[0m \u001b[0mnp\u001b[0m\u001b[0;34m\u001b[0m\u001b[0;34m\u001b[0m\u001b[0m\n",
      "\u001b[0;31mModuleNotFoundError\u001b[0m: No module named 'obspy'"
     ]
    }
   ],
   "source": [
    "import obspy\n",
    "import requests\n",
    "from bs4 import BeautifulSoup\n",
    "import matplotlib.pyplot as plt\n",
    "import numpy as np\n",
    "from dateutil import parser\n",
    "import pandas as pd"
   ]
  },
  {
   "cell_type": "markdown",
   "metadata": {},
   "source": [
    "## Setting up and scraping data\n",
    "\n",
    "I'm starting by specifying the URL to the page I'm interested in. (I've also specified a particular miniseed file but commenting that out for now)."
   ]
  },
  {
   "cell_type": "code",
   "execution_count": 2,
   "metadata": {},
   "outputs": [],
   "source": [
    "# url_mseed = 'https://rawdata.oceanobservatories.org/files/RS03AXBS/LJ03A/09-HYDBBA302/2020/12/05/OO-AXVM1--YDH-2020-12-05T14:30:00.000015.mseed'\n",
    "# print('The requested URL: ' + url_mseed)\n",
    "\n",
    "page_url = 'https://rawdata.oceanobservatories.org/files/RS03AXBS/LJ03A/09-HYDBBA302/2020/12/05/'\n",
    "page = requests.get(page_url).content\n",
    "\n",
    "# Specify the sampling frequency\n",
    "fs = 64000"
   ]
  },
  {
   "cell_type": "markdown",
   "metadata": {},
   "source": [
    "Now I'll use beautiful soup to parse the contents of the page."
   ]
  },
  {
   "cell_type": "code",
   "execution_count": 3,
   "metadata": {},
   "outputs": [],
   "source": [
    "soup = BeautifulSoup(page, 'html.parser')\n",
    "# Uncomment to see the full html\n",
    "# print(soup.prettify()) \n",
    "# pull out every link on the page\n",
    "all_links = [link.get('href') for link in soup.find_all('a')]\n",
    "mseed_files = [i for i in all_links if '.mseed' in i]"
   ]
  },
  {
   "cell_type": "markdown",
   "metadata": {},
   "source": [
    "## Load miniseed data\n",
    "\n",
    "Now that we have a list of the miniseed files on the current page, let's try actually reading the data from just one of those miniseed files."
   ]
  },
  {
   "cell_type": "code",
   "execution_count": 4,
   "metadata": {},
   "outputs": [],
   "source": [
    "mseed_data_url = page_url + mseed_files[0].split('./')[1]\n",
    "stream = obspy.read(mseed_data_url, ssl_verify=False)  # Fetch from data server\n",
    "# Pull out the raw data\n",
    "dat = stream[0].data\n",
    "# Generate a time vector using the sample frequency\n",
    "tvec = np.arange(0,len(dat)/fs,1/fs)"
   ]
  },
  {
   "cell_type": "markdown",
   "metadata": {},
   "source": [
    "## Quick plot\n",
    "Plotting about 16 seconds of data (the first million points!! eep!)"
   ]
  },
  {
   "cell_type": "code",
   "execution_count": 5,
   "metadata": {},
   "outputs": [
    {
     "data": {
      "image/png": "[encoded data removed]",
      "text/plain": [
       "<Figure size 432x288 with 1 Axes>"
      ]
     },
     "metadata": {
      "needs_background": "light"
     },
     "output_type": "display_data"
    }
   ],
   "source": [
    "plt.plot(tvec[0:1000000],dat[0:1000000])\n",
    "plt.xlabel('time (seconds)')\n",
    "plt.ylabel('amplitude')\n",
    "plt.grid()"
   ]
  },
  {
   "cell_type": "markdown",
   "metadata": {},
   "source": [
    "Ok then, not bad for a first stab at this. We got some data loaded and plotted! That's great! But it is weird and noisy and not very exciting to look at so...\n",
    "\n",
    "Next up: \n",
    "- figure out what those blips are every 2 seconds and determine whether I can easily filter them out. I'll probably start by exploring a spectrogram view\n",
    "- use hvplot (etc) to make the plots in here interactive\n",
    "- Decimation! (who needs 32 kHz anyway?? Anyone worth listening to is under 1 kHz, amirite??\n",
    "- Pulling together multiple mseeds, decimating, pasting together?\n",
    "- Maybe loop through multiple days of mseeds (or look at a few out of each day) and see if I can pull out interesting statistics or features (earthquakes? whale calls?)"
   ]
  },
  {
   "cell_type": "markdown",
   "metadata": {},
   "source": [
    "## More web scraping\n",
    "Circling back to the actual miniseed files - I want to see how hard it would be (or really how long it would take) to crawl through all of the folders for this instrument and just have a summary of where they all are (path and file name), and the start dates and times so you could more easily see what's available and choose what to look at.\n",
    "\n",
    "--> UPDATE: I moved this over to a separate function since it's way too time consuming to do as part of this script. Writing it, it seems like this functionality must already exist, but it's still a good way to familiarize with the dataset and the data organization"
   ]
  },
  {
   "cell_type": "code",
   "execution_count": null,
   "metadata": {},
   "outputs": [],
   "source": [
    "# # Create a dataframe to hold the data file path/time information \n",
    "# # (miniseed file name does not contain end time, so removed that column. \n",
    "# # maybe there's another way to get that info without actually opening the \n",
    "# # file)\n",
    "# df_bb = pd.DataFrame(columns=['filepath','filename','starttime'])\n",
    "\n",
    "# # Define the top level folder for this instrument/site (Axial volcano broadband hydrophone)\n",
    "# main_url = 'https://rawdata.oceanobservatories.org/files/RS03AXBS/LJ03A/09-HYDBBA302/'\n",
    "# main_url_contents = requests.get(main_url).content\n",
    "# # Parse the main page using beautiful soup\n",
    "# soup = BeautifulSoup(main_url_contents, 'html.parser')\n",
    "# year_folders = [link.get('href') for link in soup.find_all('a')][6:]\n",
    "# # year_folders should be just a list like: ['2015/', '2016/', '2017/', '2018/', '2019/', '2020/']\n",
    "\n",
    "# # Loop through each year folder\n",
    "# for yf in year_folders:\n",
    "#     year_url = main_url + yf\n",
    "#     year_url_contents = requests.get(year_url).content\n",
    "#     soup = BeautifulSoup(year_url_contents, 'html.parser')\n",
    "#     month_folders = [link.get('href') for link in soup.find_all('a')][6:]\n",
    "    \n",
    "#     # Loop through each month folder\n",
    "#     for mf in month_folders:\n",
    "#         month_url = year_url + mf\n",
    "#         month_url_contents = requests.get(month_url).content\n",
    "#         soup = BeautifulSoup(month_url_contents, 'html.parser')\n",
    "#         day_folders = [link.get('href') for link in soup.find_all('a')][6:]\n",
    "        \n",
    "#         # Loop through each day folder\n",
    "#         for df in day_folders:\n",
    "#             day_url = month_url + df\n",
    "#             day_url_contents = requests.get(day_url).content\n",
    "#             soup = BeautifulSoup(day_url_contents, 'html.parser')\n",
    "#             all_links = [link.get('href') for link in soup.find_all('a')]\n",
    "#             mseed_files = [i for i in all_links if '.mseed' in i]\n",
    "            \n",
    "#             # For each miniseed file, add row to dataframe with file path, \n",
    "#             # file name, start and end date/time\n",
    "#             for msfile in mseed_files:\n",
    "#                 stime = parser.parse(msfile.split('.mseed')[0][-26:])\n",
    "#                 df_bb = df_bb.append({'filepath': day_url,\n",
    "#                                'filename': msfile.split('./')[1],\n",
    "#                                'starttime': stime}, ignore_index=True)\n",
    "            \n",
    "# df_bb.to_pickle('../../data/ooi_lookup/ooi_lookup.pkl')          "
   ]
  },
  {
   "cell_type": "code",
   "execution_count": null,
   "metadata": {},
   "outputs": [],
   "source": []
  }
 ],
 "metadata": {
  "kernelspec": {
   "display_name": "Python [conda env:notebook] *",
   "language": "python",
   "name": "conda-env-notebook-py"
  },
  "language_info": {
   "codemirror_mode": {
    "name": "ipython",
    "version": 3
   },
   "file_extension": ".py",
   "mimetype": "text/x-python",
   "name": "python",
   "nbconvert_exporter": "python",
   "pygments_lexer": "ipython3",
   "version": "3.8.6"
  }
 },
 "nbformat": 4,
 "nbformat_minor": 4
}
